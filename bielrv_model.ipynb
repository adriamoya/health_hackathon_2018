{
 "cells": [
  {
   "cell_type": "markdown",
   "metadata": {},
   "source": [
    "### Import modules"
   ]
  },
  {
   "cell_type": "code",
   "execution_count": 1,
   "metadata": {},
   "outputs": [],
   "source": [
    "import pandas as pd\n",
    "import numpy as np\n",
    "\n",
    "from preprocessing.preprocessing import preprocessing\n",
    "\n",
    "from sklearn.metrics import roc_auc_score\n",
    "from sklearn.linear_model import LinearRegression\n",
    "from sklearn.model_selection import train_test_split"
   ]
  },
  {
   "cell_type": "markdown",
   "metadata": {},
   "source": [
    "### Import data"
   ]
  },
  {
   "cell_type": "code",
   "execution_count": 2,
   "metadata": {},
   "outputs": [],
   "source": [
    "df_train = pd.read_csv('./data/train.csv')\n",
    "df_test = pd.read_csv('./data/test_challenge.csv')"
   ]
  },
  {
   "cell_type": "markdown",
   "metadata": {},
   "source": [
    "### Preprocess data"
   ]
  },
  {
   "cell_type": "code",
   "execution_count": 3,
   "metadata": {},
   "outputs": [],
   "source": [
    "df_train_cln = preprocessing(df_train).set_index('NHC')\n",
    "df_test_cln = preprocessing(df_test).set_index('NHC')"
   ]
  },
  {
   "cell_type": "code",
   "execution_count": 4,
   "metadata": {},
   "outputs": [],
   "source": [
    "df_train_cln.days_between = df_train_cln.days_between.astype(int)\n",
    "df_test_cln.days_between = df_test_cln.days_between.astype(int)"
   ]
  },
  {
   "cell_type": "markdown",
   "metadata": {},
   "source": [
    "### Check data"
   ]
  },
  {
   "cell_type": "code",
   "execution_count": 5,
   "metadata": {},
   "outputs": [],
   "source": [
    "df_train_cln = df_train_cln.drop(['start_neutropenico','start_FN','birth_year','Gender','Past_positive_result_from','ID'], axis=1)"
   ]
  },
  {
   "cell_type": "code",
   "execution_count": 6,
   "metadata": {},
   "outputs": [
    {
     "data": {
      "text/html": [
       "<div>\n",
       "<style scoped>\n",
       "    .dataframe tbody tr th:only-of-type {\n",
       "        vertical-align: middle;\n",
       "    }\n",
       "\n",
       "    .dataframe tbody tr th {\n",
       "        vertical-align: top;\n",
       "    }\n",
       "\n",
       "    .dataframe thead th {\n",
       "        text-align: right;\n",
       "    }\n",
       "</style>\n",
       "<table border=\"1\" class=\"dataframe\">\n",
       "  <thead>\n",
       "    <tr style=\"text-align: right;\">\n",
       "      <th></th>\n",
       "      <th>MDR</th>\n",
       "      <th>days_between</th>\n",
       "      <th>days_in_hospital</th>\n",
       "      <th>hospital_stay_w_FN</th>\n",
       "      <th>prev_hospital_stay</th>\n",
       "      <th>emergency</th>\n",
       "      <th>num_movements</th>\n",
       "      <th>num_consult</th>\n",
       "      <th>share_room_MDR</th>\n",
       "      <th>dummy_LAM</th>\n",
       "      <th>...</th>\n",
       "      <th>num_rooms_b</th>\n",
       "      <th>gender__female</th>\n",
       "      <th>gender__male</th>\n",
       "      <th>Past_positive__Blood culture</th>\n",
       "      <th>Past_positive__Both</th>\n",
       "      <th>Past_positive__Culture</th>\n",
       "      <th>Past_positive__NEGATIVE</th>\n",
       "      <th>Past_positive__NEITHER</th>\n",
       "      <th>days_neutropenic_wo_fn</th>\n",
       "      <th>dummie_days_neutropenic_wo_fn</th>\n",
       "    </tr>\n",
       "    <tr>\n",
       "      <th>NHC</th>\n",
       "      <th></th>\n",
       "      <th></th>\n",
       "      <th></th>\n",
       "      <th></th>\n",
       "      <th></th>\n",
       "      <th></th>\n",
       "      <th></th>\n",
       "      <th></th>\n",
       "      <th></th>\n",
       "      <th></th>\n",
       "      <th></th>\n",
       "      <th></th>\n",
       "      <th></th>\n",
       "      <th></th>\n",
       "      <th></th>\n",
       "      <th></th>\n",
       "      <th></th>\n",
       "      <th></th>\n",
       "      <th></th>\n",
       "      <th></th>\n",
       "      <th></th>\n",
       "    </tr>\n",
       "  </thead>\n",
       "  <tbody>\n",
       "    <tr>\n",
       "      <th>404</th>\n",
       "      <td>0</td>\n",
       "      <td>0</td>\n",
       "      <td>28</td>\n",
       "      <td>1</td>\n",
       "      <td>3</td>\n",
       "      <td>0</td>\n",
       "      <td>0</td>\n",
       "      <td>10</td>\n",
       "      <td>0</td>\n",
       "      <td>0</td>\n",
       "      <td>...</td>\n",
       "      <td>1.0</td>\n",
       "      <td>1</td>\n",
       "      <td>0</td>\n",
       "      <td>0</td>\n",
       "      <td>0</td>\n",
       "      <td>1</td>\n",
       "      <td>0</td>\n",
       "      <td>0</td>\n",
       "      <td>21</td>\n",
       "      <td>1</td>\n",
       "    </tr>\n",
       "    <tr>\n",
       "      <th>1897</th>\n",
       "      <td>0</td>\n",
       "      <td>0</td>\n",
       "      <td>8</td>\n",
       "      <td>1</td>\n",
       "      <td>6</td>\n",
       "      <td>0</td>\n",
       "      <td>0</td>\n",
       "      <td>0</td>\n",
       "      <td>0</td>\n",
       "      <td>0</td>\n",
       "      <td>...</td>\n",
       "      <td>1.0</td>\n",
       "      <td>1</td>\n",
       "      <td>0</td>\n",
       "      <td>0</td>\n",
       "      <td>0</td>\n",
       "      <td>0</td>\n",
       "      <td>1</td>\n",
       "      <td>0</td>\n",
       "      <td>4</td>\n",
       "      <td>1</td>\n",
       "    </tr>\n",
       "    <tr>\n",
       "      <th>556</th>\n",
       "      <td>0</td>\n",
       "      <td>0</td>\n",
       "      <td>2</td>\n",
       "      <td>1</td>\n",
       "      <td>1</td>\n",
       "      <td>0</td>\n",
       "      <td>0</td>\n",
       "      <td>1</td>\n",
       "      <td>0</td>\n",
       "      <td>0</td>\n",
       "      <td>...</td>\n",
       "      <td>1.0</td>\n",
       "      <td>0</td>\n",
       "      <td>1</td>\n",
       "      <td>0</td>\n",
       "      <td>0</td>\n",
       "      <td>0</td>\n",
       "      <td>1</td>\n",
       "      <td>0</td>\n",
       "      <td>0</td>\n",
       "      <td>0</td>\n",
       "    </tr>\n",
       "    <tr>\n",
       "      <th>454</th>\n",
       "      <td>0</td>\n",
       "      <td>0</td>\n",
       "      <td>1</td>\n",
       "      <td>1</td>\n",
       "      <td>9</td>\n",
       "      <td>1</td>\n",
       "      <td>1</td>\n",
       "      <td>0</td>\n",
       "      <td>0</td>\n",
       "      <td>0</td>\n",
       "      <td>...</td>\n",
       "      <td>3.0</td>\n",
       "      <td>0</td>\n",
       "      <td>1</td>\n",
       "      <td>0</td>\n",
       "      <td>0</td>\n",
       "      <td>0</td>\n",
       "      <td>1</td>\n",
       "      <td>0</td>\n",
       "      <td>0</td>\n",
       "      <td>0</td>\n",
       "    </tr>\n",
       "    <tr>\n",
       "      <th>1615</th>\n",
       "      <td>0</td>\n",
       "      <td>0</td>\n",
       "      <td>17</td>\n",
       "      <td>1</td>\n",
       "      <td>5</td>\n",
       "      <td>0</td>\n",
       "      <td>2</td>\n",
       "      <td>2</td>\n",
       "      <td>0</td>\n",
       "      <td>0</td>\n",
       "      <td>...</td>\n",
       "      <td>2.0</td>\n",
       "      <td>1</td>\n",
       "      <td>0</td>\n",
       "      <td>0</td>\n",
       "      <td>0</td>\n",
       "      <td>1</td>\n",
       "      <td>0</td>\n",
       "      <td>0</td>\n",
       "      <td>15</td>\n",
       "      <td>1</td>\n",
       "    </tr>\n",
       "  </tbody>\n",
       "</table>\n",
       "<p>5 rows × 90 columns</p>\n",
       "</div>"
      ],
      "text/plain": [
       "      MDR  days_between  days_in_hospital  hospital_stay_w_FN  \\\n",
       "NHC                                                             \n",
       "404     0             0                28                   1   \n",
       "1897    0             0                 8                   1   \n",
       "556     0             0                 2                   1   \n",
       "454     0             0                 1                   1   \n",
       "1615    0             0                17                   1   \n",
       "\n",
       "      prev_hospital_stay  emergency  num_movements  num_consult  \\\n",
       "NHC                                                               \n",
       "404                    3          0              0           10   \n",
       "1897                   6          0              0            0   \n",
       "556                    1          0              0            1   \n",
       "454                    9          1              1            0   \n",
       "1615                   5          0              2            2   \n",
       "\n",
       "      share_room_MDR  dummy_LAM              ...                num_rooms_b  \\\n",
       "NHC                                          ...                              \n",
       "404                0          0              ...                        1.0   \n",
       "1897               0          0              ...                        1.0   \n",
       "556                0          0              ...                        1.0   \n",
       "454                0          0              ...                        3.0   \n",
       "1615               0          0              ...                        2.0   \n",
       "\n",
       "      gender__female  gender__male  Past_positive__Blood culture  \\\n",
       "NHC                                                                \n",
       "404                1             0                             0   \n",
       "1897               1             0                             0   \n",
       "556                0             1                             0   \n",
       "454                0             1                             0   \n",
       "1615               1             0                             0   \n",
       "\n",
       "      Past_positive__Both  Past_positive__Culture  Past_positive__NEGATIVE  \\\n",
       "NHC                                                                          \n",
       "404                     0                       1                        0   \n",
       "1897                    0                       0                        1   \n",
       "556                     0                       0                        1   \n",
       "454                     0                       0                        1   \n",
       "1615                    0                       1                        0   \n",
       "\n",
       "      Past_positive__NEITHER  days_neutropenic_wo_fn  \\\n",
       "NHC                                                    \n",
       "404                        0                      21   \n",
       "1897                       0                       4   \n",
       "556                        0                       0   \n",
       "454                        0                       0   \n",
       "1615                       0                      15   \n",
       "\n",
       "      dummie_days_neutropenic_wo_fn  \n",
       "NHC                                  \n",
       "404                               1  \n",
       "1897                              1  \n",
       "556                               0  \n",
       "454                               0  \n",
       "1615                              1  \n",
       "\n",
       "[5 rows x 90 columns]"
      ]
     },
     "execution_count": 6,
     "metadata": {},
     "output_type": "execute_result"
    }
   ],
   "source": [
    "df_train_cln.head(5)\n"
   ]
  },
  {
   "cell_type": "code",
   "execution_count": 7,
   "metadata": {},
   "outputs": [
    {
     "name": "stdout",
     "output_type": "stream",
     "text": [
      "max: 1307\n",
      "min: 0\n",
      "mean: 39.22387136672851\n",
      "nulls 0\n",
      "max: 3368\n",
      "min: 0\n",
      "mean: 61.85228677379481\n",
      "nulls 0\n"
     ]
    }
   ],
   "source": [
    "feature = 'days_between'\n",
    "\n",
    "datasets=[df_train_cln,df_test_cln]\n",
    "\n",
    "for dataset in datasets:\n",
    "    print('max:',dataset[feature].max())\n",
    "    print('min:',dataset[feature].min())\n",
    "    print('mean:',dataset[feature].mean())\n",
    "    print('nulls',dataset[feature].isnull().sum())"
   ]
  },
  {
   "cell_type": "markdown",
   "metadata": {},
   "source": [
    "### Split target and features"
   ]
  },
  {
   "cell_type": "code",
   "execution_count": 8,
   "metadata": {},
   "outputs": [],
   "source": [
    "y = df_train_cln['MDR']\n",
    "X = df_train_cln.drop(['MDR'], axis=1)"
   ]
  },
  {
   "cell_type": "markdown",
   "metadata": {},
   "source": [
    "### Split train and test"
   ]
  },
  {
   "cell_type": "code",
   "execution_count": 9,
   "metadata": {},
   "outputs": [],
   "source": [
    "X_train, X_test, y_train, y_test = train_test_split(X,y, random_state=0)"
   ]
  },
  {
   "cell_type": "markdown",
   "metadata": {},
   "source": []
  },
  {
   "cell_type": "markdown",
   "metadata": {},
   "source": [
    "### Create model"
   ]
  },
  {
   "cell_type": "code",
   "execution_count": 10,
   "metadata": {},
   "outputs": [],
   "source": [
    "lr = LinearRegression(normalize=True)"
   ]
  },
  {
   "cell_type": "markdown",
   "metadata": {},
   "source": [
    "### Fit model"
   ]
  },
  {
   "cell_type": "code",
   "execution_count": 11,
   "metadata": {},
   "outputs": [
    {
     "data": {
      "text/plain": [
       "LinearRegression(copy_X=True, fit_intercept=True, n_jobs=1, normalize=True)"
      ]
     },
     "execution_count": 11,
     "metadata": {},
     "output_type": "execute_result"
    }
   ],
   "source": [
    "lr.fit(X_train,y_train)"
   ]
  },
  {
   "cell_type": "code",
   "execution_count": 12,
   "metadata": {},
   "outputs": [
    {
     "name": "stdout",
     "output_type": "stream",
     "text": [
      "Train positives: 3\n",
      "Test positives: 4\n"
     ]
    }
   ],
   "source": [
    "y_test_pred = lr.predict(X_test)\n",
    "y_train_pred = lr.predict(X_train)\n",
    "print('Train positives:',(y_train_pred > 0.5).sum())\n",
    "print('Test positives:',(y_test_pred > 0.5).sum()) "
   ]
  },
  {
   "cell_type": "code",
   "execution_count": 13,
   "metadata": {},
   "outputs": [
    {
     "name": "stdout",
     "output_type": "stream",
     "text": [
      "train ROC AUC: 0.7979740632283512\n",
      "test ROC AUC: 0.5934065934065934\n"
     ]
    }
   ],
   "source": [
    "print('train ROC AUC:', roc_auc_score(y_train, y_train_pred))\n",
    "print('test ROC AUC:', roc_auc_score(y_test, y_test_pred))"
   ]
  },
  {
   "cell_type": "code",
   "execution_count": null,
   "metadata": {},
   "outputs": [],
   "source": []
  },
  {
   "cell_type": "code",
   "execution_count": null,
   "metadata": {},
   "outputs": [],
   "source": []
  }
 ],
 "metadata": {
  "kernelspec": {
   "display_name": "Python 3",
   "language": "python",
   "name": "python3"
  },
  "language_info": {
   "codemirror_mode": {
    "name": "ipython",
    "version": 3
   },
   "file_extension": ".py",
   "mimetype": "text/x-python",
   "name": "python",
   "nbconvert_exporter": "python",
   "pygments_lexer": "ipython3",
   "version": "3.6.5"
  }
 },
 "nbformat": 4,
 "nbformat_minor": 2
}
